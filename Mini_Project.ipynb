{
 "cells": [
  {
   "cell_type": "markdown",
   "id": "57cafdb5-d8fb-47a9-93cf-51260ed9db3e",
   "metadata": {},
   "source": [
    "# Growing Inequality: The Real Estate Divide in Connecticut \n",
    "\n",
    "Has the gap between high-value and low-value towns widened over the past two decades?\n",
    "\n",
    "Dataset Documentation\n",
    "- Source: https://catalog.data.gov/dataset/real-estate-sales-2001-2018\n",
    "- Description: The dataset contains over 1.1 million real estate sales in Connecticut from 2001 to 2023, including details on sale prices, assessed property values, property types, locations, and towns.\n",
    "- Reason For Choice: I have an interest in Real Estate and Income Inequality "
   ]
  },
  {
   "cell_type": "code",
   "execution_count": 5,
   "id": "ac80581f-58ca-4f7d-9556-f80e29326d0b",
   "metadata": {},
   "outputs": [
    {
     "name": "stderr",
     "output_type": "stream",
     "text": [
      "/tmp/ipykernel_15141/509853340.py:9: DtypeWarning: Columns (7,8,9,10,11,12) have mixed types. Specify dtype option on import or set low_memory=False.\n",
      "  df = pd.read_csv(file_path)\n"
     ]
    },
    {
     "data": {
      "text/html": [
       "<div>\n",
       "<style scoped>\n",
       "    .dataframe tbody tr th:only-of-type {\n",
       "        vertical-align: middle;\n",
       "    }\n",
       "\n",
       "    .dataframe tbody tr th {\n",
       "        vertical-align: top;\n",
       "    }\n",
       "\n",
       "    .dataframe thead th {\n",
       "        text-align: right;\n",
       "    }\n",
       "</style>\n",
       "<table border=\"1\" class=\"dataframe\">\n",
       "  <thead>\n",
       "    <tr style=\"text-align: right;\">\n",
       "      <th></th>\n",
       "      <th>Serial Number</th>\n",
       "      <th>List Year</th>\n",
       "      <th>Date Recorded</th>\n",
       "      <th>Town</th>\n",
       "      <th>Address</th>\n",
       "      <th>Assessed Value</th>\n",
       "      <th>Sale Amount</th>\n",
       "      <th>Sales Ratio</th>\n",
       "      <th>Property Type</th>\n",
       "      <th>Residential Type</th>\n",
       "      <th>Non Use Code</th>\n",
       "      <th>Assessor Remarks</th>\n",
       "      <th>OPM remarks</th>\n",
       "      <th>Location</th>\n",
       "    </tr>\n",
       "  </thead>\n",
       "  <tbody>\n",
       "    <tr>\n",
       "      <th>0</th>\n",
       "      <td>2020177</td>\n",
       "      <td>2020</td>\n",
       "      <td>04/14/2021</td>\n",
       "      <td>Ansonia</td>\n",
       "      <td>323 BEAVER ST</td>\n",
       "      <td>133000.0</td>\n",
       "      <td>248400.0</td>\n",
       "      <td>0.5354</td>\n",
       "      <td>Residential</td>\n",
       "      <td>Single Family</td>\n",
       "      <td>NaN</td>\n",
       "      <td>NaN</td>\n",
       "      <td>NaN</td>\n",
       "      <td>POINT (-73.06822 41.35014)</td>\n",
       "    </tr>\n",
       "    <tr>\n",
       "      <th>1</th>\n",
       "      <td>2020225</td>\n",
       "      <td>2020</td>\n",
       "      <td>05/26/2021</td>\n",
       "      <td>Ansonia</td>\n",
       "      <td>152 JACKSON ST</td>\n",
       "      <td>110500.0</td>\n",
       "      <td>239900.0</td>\n",
       "      <td>0.4606</td>\n",
       "      <td>Residential</td>\n",
       "      <td>Three Family</td>\n",
       "      <td>NaN</td>\n",
       "      <td>NaN</td>\n",
       "      <td>NaN</td>\n",
       "      <td>NaN</td>\n",
       "    </tr>\n",
       "    <tr>\n",
       "      <th>2</th>\n",
       "      <td>2020348</td>\n",
       "      <td>2020</td>\n",
       "      <td>09/13/2021</td>\n",
       "      <td>Ansonia</td>\n",
       "      <td>230 WAKELEE AVE</td>\n",
       "      <td>150500.0</td>\n",
       "      <td>325000.0</td>\n",
       "      <td>0.463</td>\n",
       "      <td>Commercial</td>\n",
       "      <td>NaN</td>\n",
       "      <td>NaN</td>\n",
       "      <td>NaN</td>\n",
       "      <td>NaN</td>\n",
       "      <td>NaN</td>\n",
       "    </tr>\n",
       "    <tr>\n",
       "      <th>3</th>\n",
       "      <td>2020090</td>\n",
       "      <td>2020</td>\n",
       "      <td>12/14/2020</td>\n",
       "      <td>Ansonia</td>\n",
       "      <td>57 PLATT ST</td>\n",
       "      <td>127400.0</td>\n",
       "      <td>202500.0</td>\n",
       "      <td>0.6291</td>\n",
       "      <td>Residential</td>\n",
       "      <td>Two Family</td>\n",
       "      <td>NaN</td>\n",
       "      <td>NaN</td>\n",
       "      <td>NaN</td>\n",
       "      <td>NaN</td>\n",
       "    </tr>\n",
       "    <tr>\n",
       "      <th>4</th>\n",
       "      <td>210288</td>\n",
       "      <td>2021</td>\n",
       "      <td>06/20/2022</td>\n",
       "      <td>Avon</td>\n",
       "      <td>12 BYRON DRIVE</td>\n",
       "      <td>179990.0</td>\n",
       "      <td>362500.0</td>\n",
       "      <td>0.4965</td>\n",
       "      <td>Residential</td>\n",
       "      <td>Condo</td>\n",
       "      <td>NaN</td>\n",
       "      <td>NaN</td>\n",
       "      <td>NaN</td>\n",
       "      <td>POINT (-72.879115982 41.773452988)</td>\n",
       "    </tr>\n",
       "  </tbody>\n",
       "</table>\n",
       "</div>"
      ],
      "text/plain": [
       "   Serial Number  List Year Date Recorded     Town          Address  \\\n",
       "0        2020177       2020    04/14/2021  Ansonia    323 BEAVER ST   \n",
       "1        2020225       2020    05/26/2021  Ansonia   152 JACKSON ST   \n",
       "2        2020348       2020    09/13/2021  Ansonia  230 WAKELEE AVE   \n",
       "3        2020090       2020    12/14/2020  Ansonia      57 PLATT ST   \n",
       "4         210288       2021    06/20/2022     Avon   12 BYRON DRIVE   \n",
       "\n",
       "   Assessed Value  Sale Amount Sales Ratio Property Type Residential Type  \\\n",
       "0        133000.0     248400.0      0.5354   Residential    Single Family   \n",
       "1        110500.0     239900.0      0.4606   Residential     Three Family   \n",
       "2        150500.0     325000.0       0.463    Commercial              NaN   \n",
       "3        127400.0     202500.0      0.6291   Residential       Two Family   \n",
       "4        179990.0     362500.0      0.4965   Residential            Condo   \n",
       "\n",
       "  Non Use Code Assessor Remarks OPM remarks  \\\n",
       "0          NaN              NaN         NaN   \n",
       "1          NaN              NaN         NaN   \n",
       "2          NaN              NaN         NaN   \n",
       "3          NaN              NaN         NaN   \n",
       "4          NaN              NaN         NaN   \n",
       "\n",
       "                             Location  \n",
       "0          POINT (-73.06822 41.35014)  \n",
       "1                                 NaN  \n",
       "2                                 NaN  \n",
       "3                                 NaN  \n",
       "4  POINT (-72.879115982 41.773452988)  "
      ]
     },
     "execution_count": 5,
     "metadata": {},
     "output_type": "execute_result"
    }
   ],
   "source": [
    "import pandas as pd\n",
    "\n",
    "# Install s3fs if you don't already have it\n",
    "# !pip install s3fs\n",
    "\n",
    "# Load the CSV directly from S3\n",
    "file_path = \"s3://ia-340-2025-fall-strawn676584767747/Real_Estate_Sales_2001-2023_GL.csv\"\n",
    "\n",
    "df = pd.read_csv(file_path)\n",
    "\n",
    "# Display first few rows\n",
    "df.head()\n"
   ]
  },
  {
   "cell_type": "markdown",
   "id": "7d549b8a-09e6-41c3-afe4-4e2718012329",
   "metadata": {},
   "source": [
    "## Data Cleaning Section"
   ]
  },
  {
   "cell_type": "code",
   "execution_count": 41,
   "id": "f5f7f153-d041-47a0-9f2e-7627164bbe32",
   "metadata": {},
   "outputs": [
    {
     "data": {
      "text/markdown": [
       "Loaded 1,141,722 rows from S3 source."
      ],
      "text/plain": [
       "<IPython.core.display.Markdown object>"
      ]
     },
     "metadata": {},
     "output_type": "display_data"
    }
   ],
   "source": [
    "# %%\n",
    "import pandas as pd\n",
    "import numpy as np\n",
    "from IPython.display import display, Markdown\n",
    "\n",
    "# Load dataset from S3 or local fallback\n",
    "file_path_s3 = \"s3://ia-340-2025-fall-strawn676584767747/Real_Estate_Sales_2001-2023_GL.csv\"\n",
    "local_fallback = \"/mnt/data/Real_Estate_Sales_2001-2023_GL.csv\"\n",
    "\n",
    "try:\n",
    "    df = pd.read_csv(file_path_s3, low_memory=False)\n",
    "    source = \"S3\"\n",
    "except Exception:\n",
    "    df = pd.read_csv(local_fallback, low_memory=False)\n",
    "    source = \"local\"\n",
    "\n",
    "display(Markdown(f\"Loaded {len(df):,} rows from {source} source.\"))\n"
   ]
  },
  {
   "cell_type": "code",
   "execution_count": 40,
   "id": "3aecc40d-417a-4b87-8040-80abc50ff610",
   "metadata": {},
   "outputs": [
    {
     "data": {
      "text/markdown": [
       "Standardized Columns:"
      ],
      "text/plain": [
       "<IPython.core.display.Markdown object>"
      ]
     },
     "metadata": {},
     "output_type": "display_data"
    },
    {
     "name": "stdout",
     "output_type": "stream",
     "text": [
      "Index(['Serial_Number', 'List_Year', 'Date_Recorded', 'Town', 'Address',\n",
      "       'Assessed_Value', 'Sale_Amount', 'Sales_Ratio', 'Property_Type',\n",
      "       'Residential_Type', 'Non_Use_Code', 'Assessor_Remarks', 'OPM_remarks',\n",
      "       'Location', 'Sales_Ratio_clean'],\n",
      "      dtype='object')\n"
     ]
    }
   ],
   "source": [
    "# %%\n",
    "# 1. Standardize column names\n",
    "df.columns = [c.strip().replace(\" \", \"_\").replace(\"-\", \"_\") for c in df.columns]\n",
    "\n",
    "# Display standardized column names\n",
    "display(Markdown(\"Standardized Columns:\"))\n",
    "print(df.columns[:15])\n"
   ]
  },
  {
   "cell_type": "code",
   "execution_count": 39,
   "id": "a54713fc-5fe7-410a-95d5-c10d875dc2d1",
   "metadata": {},
   "outputs": [
    {
     "data": {
      "text/markdown": [
       "Numeric and date columns converted successfully."
      ],
      "text/plain": [
       "<IPython.core.display.Markdown object>"
      ]
     },
     "metadata": {},
     "output_type": "display_data"
    }
   ],
   "source": [
    "# %%\n",
    "# 2. Convert data types\n",
    "numeric_cols = [\"Assessed_Value\", \"Sale_Amount\"]\n",
    "for col in numeric_cols:\n",
    "    if col in df.columns:\n",
    "        df[col] = pd.to_numeric(df[col], errors=\"coerce\")\n",
    "\n",
    "# Convert date fields\n",
    "if \"Date_Recorded\" in df.columns:\n",
    "    df[\"Date_Recorded\"] = pd.to_datetime(df[\"Date_Recorded\"], errors=\"coerce\")\n",
    "\n",
    "# Derive List_Year if missing\n",
    "if \"List_Year\" not in df.columns:\n",
    "    df[\"List_Year\"] = df[\"Date_Recorded\"].dt.year\n",
    "\n",
    "display(Markdown(\"Numeric and date columns converted successfully.\"))\n"
   ]
  },
  {
   "cell_type": "code",
   "execution_count": 38,
   "id": "836f3b98-8383-4145-a7ee-9f82f4b51f56",
   "metadata": {},
   "outputs": [
    {
     "data": {
      "text/markdown": [
       "Dropped 0 invalid or missing rows. Remaining: 1,132,613."
      ],
      "text/plain": [
       "<IPython.core.display.Markdown object>"
      ]
     },
     "metadata": {},
     "output_type": "display_data"
    }
   ],
   "source": [
    "# %%\n",
    "# 3. Handle missing and invalid values\n",
    "before_rows = len(df)\n",
    "\n",
    "# Drop rows with missing or invalid Sale_Amount or Assessed_Value\n",
    "df = df[(df[\"Sale_Amount\"].notna()) & (df[\"Assessed_Value\"].notna())]\n",
    "df = df[(df[\"Sale_Amount\"] > 0) & (df[\"Assessed_Value\"] > 0)]\n",
    "\n",
    "# Drop rows with missing Date_Recorded or Town\n",
    "df = df[df[\"Date_Recorded\"].notna()]\n",
    "df = df[df[\"Town\"].notna()]\n",
    "\n",
    "after_rows = len(df)\n",
    "dropped = before_rows - after_rows\n",
    "\n",
    "display(Markdown(f\"Dropped {dropped:,} invalid or missing rows. Remaining: {after_rows:,}.\"))\n"
   ]
  },
  {
   "cell_type": "code",
   "execution_count": 20,
   "id": "aa389a58-1a91-4d33-9303-737ef848b79d",
   "metadata": {},
   "outputs": [
    {
     "data": {
      "text/markdown": [
       "No duplicate rows found."
      ],
      "text/plain": [
       "<IPython.core.display.Markdown object>"
      ]
     },
     "metadata": {},
     "output_type": "display_data"
    }
   ],
   "source": [
    "# %%\n",
    "# 4. Remove duplicates\n",
    "duplicates = df.duplicated().sum()\n",
    "if duplicates > 0:\n",
    "    df = df.drop_duplicates()\n",
    "    display(Markdown(f\"Removed {duplicates:,} duplicate rows.\"))\n",
    "else:\n",
    "    display(Markdown(\"No duplicate rows found.\"))\n"
   ]
  },
  {
   "cell_type": "code",
   "execution_count": 21,
   "id": "4d97587f-48b7-4a72-917d-122840b2852c",
   "metadata": {},
   "outputs": [],
   "source": [
    "# %%\n",
    "# 5. Clean and calculate ratios\n",
    "def parse_ratio(x):\n",
    "    if pd.isna(x): \n",
    "        return np.nan\n",
    "    s = str(x).replace(\"%\", \"\").replace(\",\", \"\").strip()\n",
    "    try:\n",
    "        val = float(s)\n",
    "        return val / 100 if val > 1 else val\n",
    "    except:\n",
    "        return np.nan\n",
    "\n",
    "if \"Sales_Ratio\" in df.columns:\n",
    "    df[\"Sales_Ratio_clean\"] = df[\"Sales_Ratio\"].map(parse_ratio)\n",
    "else:\n",
    "    df[\"Sales_Ratio_clean\"] = np.nan\n",
    "\n",
    "# Calculate ratio if not provided\n",
    "df[\"Sales_Ratio_calc\"] = df[\"Assessed_Value\"] / df[\"Sale_Amount\"]\n",
    "\n",
    "# Create a final unified ratio column\n",
    "df[\"Sales_Ratio_final\"] = df[\"Sales_Ratio_clean\"].combine_first(df[\"Sales_Ratio_calc\"])\n"
   ]
  },
  {
   "cell_type": "code",
   "execution_count": 37,
   "id": "f57d5671-309a-4837-8404-5898219bb66c",
   "metadata": {},
   "outputs": [
    {
     "data": {
      "text/markdown": [
       "Clean dataset ready with 1,132,613 rows and 6 columns."
      ],
      "text/plain": [
       "<IPython.core.display.Markdown object>"
      ]
     },
     "metadata": {},
     "output_type": "display_data"
    },
    {
     "data": {
      "text/html": [
       "<div>\n",
       "<style scoped>\n",
       "    .dataframe tbody tr th:only-of-type {\n",
       "        vertical-align: middle;\n",
       "    }\n",
       "\n",
       "    .dataframe tbody tr th {\n",
       "        vertical-align: top;\n",
       "    }\n",
       "\n",
       "    .dataframe thead th {\n",
       "        text-align: right;\n",
       "    }\n",
       "</style>\n",
       "<table border=\"1\" class=\"dataframe\">\n",
       "  <thead>\n",
       "    <tr style=\"text-align: right;\">\n",
       "      <th></th>\n",
       "      <th>List_Year</th>\n",
       "      <th>Town</th>\n",
       "      <th>Sale_Amount</th>\n",
       "      <th>Assessed_Value</th>\n",
       "      <th>Sales_Ratio_final</th>\n",
       "      <th>Date_Recorded</th>\n",
       "    </tr>\n",
       "  </thead>\n",
       "  <tbody>\n",
       "    <tr>\n",
       "      <th>0</th>\n",
       "      <td>2020</td>\n",
       "      <td>Ansonia</td>\n",
       "      <td>248400.0</td>\n",
       "      <td>133000.0</td>\n",
       "      <td>0.5354</td>\n",
       "      <td>2021-04-14</td>\n",
       "    </tr>\n",
       "    <tr>\n",
       "      <th>1</th>\n",
       "      <td>2020</td>\n",
       "      <td>Ansonia</td>\n",
       "      <td>239900.0</td>\n",
       "      <td>110500.0</td>\n",
       "      <td>0.4606</td>\n",
       "      <td>2021-05-26</td>\n",
       "    </tr>\n",
       "    <tr>\n",
       "      <th>2</th>\n",
       "      <td>2020</td>\n",
       "      <td>Ansonia</td>\n",
       "      <td>325000.0</td>\n",
       "      <td>150500.0</td>\n",
       "      <td>0.4630</td>\n",
       "      <td>2021-09-13</td>\n",
       "    </tr>\n",
       "    <tr>\n",
       "      <th>3</th>\n",
       "      <td>2020</td>\n",
       "      <td>Ansonia</td>\n",
       "      <td>202500.0</td>\n",
       "      <td>127400.0</td>\n",
       "      <td>0.6291</td>\n",
       "      <td>2020-12-14</td>\n",
       "    </tr>\n",
       "    <tr>\n",
       "      <th>4</th>\n",
       "      <td>2021</td>\n",
       "      <td>Avon</td>\n",
       "      <td>362500.0</td>\n",
       "      <td>179990.0</td>\n",
       "      <td>0.4965</td>\n",
       "      <td>2022-06-20</td>\n",
       "    </tr>\n",
       "  </tbody>\n",
       "</table>\n",
       "</div>"
      ],
      "text/plain": [
       "   List_Year     Town  Sale_Amount  Assessed_Value  Sales_Ratio_final  \\\n",
       "0       2020  Ansonia     248400.0        133000.0             0.5354   \n",
       "1       2020  Ansonia     239900.0        110500.0             0.4606   \n",
       "2       2020  Ansonia     325000.0        150500.0             0.4630   \n",
       "3       2020  Ansonia     202500.0        127400.0             0.6291   \n",
       "4       2021     Avon     362500.0        179990.0             0.4965   \n",
       "\n",
       "  Date_Recorded  \n",
       "0    2021-04-14  \n",
       "1    2021-05-26  \n",
       "2    2021-09-13  \n",
       "3    2020-12-14  \n",
       "4    2022-06-20  "
      ]
     },
     "metadata": {},
     "output_type": "display_data"
    }
   ],
   "source": [
    "# %%\n",
    "# 6. Filter years (2001–2023 only)\n",
    "df = df[df[\"List_Year\"].between(2001, 2023)]\n",
    "\n",
    "# Select relevant columns\n",
    "cols_keep = [\"List_Year\", \"Town\", \"Sale_Amount\", \"Assessed_Value\", \"Sales_Ratio_final\", \"Date_Recorded\"]\n",
    "df_clean = df[cols_keep].copy()\n",
    "\n",
    "display(Markdown(f\"Clean dataset ready with {len(df_clean):,} rows and {len(df_clean.columns)} columns.\"))\n",
    "display(df_clean.head())\n"
   ]
  },
  {
   "cell_type": "code",
   "execution_count": 36,
   "id": "f6b0c376-9940-43fa-a175-4aae77fd2d4a",
   "metadata": {},
   "outputs": [
    {
     "data": {
      "text/markdown": [
       "Cleaned Data Overview"
      ],
      "text/plain": [
       "<IPython.core.display.Markdown object>"
      ]
     },
     "metadata": {},
     "output_type": "display_data"
    },
    {
     "name": "stdout",
     "output_type": "stream",
     "text": [
      "<class 'pandas.core.frame.DataFrame'>\n",
      "Index: 1132613 entries, 0 to 1141721\n",
      "Data columns (total 6 columns):\n",
      " #   Column             Non-Null Count    Dtype         \n",
      "---  ------             --------------    -----         \n",
      " 0   List_Year          1132613 non-null  int64         \n",
      " 1   Town               1132613 non-null  object        \n",
      " 2   Sale_Amount        1132613 non-null  float64       \n",
      " 3   Assessed_Value     1132613 non-null  float64       \n",
      " 4   Sales_Ratio_final  1132613 non-null  float64       \n",
      " 5   Date_Recorded      1132613 non-null  datetime64[ns]\n",
      "dtypes: datetime64[ns](1), float64(3), int64(1), object(1)\n",
      "memory usage: 60.5+ MB\n"
     ]
    },
    {
     "data": {
      "text/plain": [
       "None"
      ]
     },
     "metadata": {},
     "output_type": "display_data"
    },
    {
     "data": {
      "text/markdown": [
       "Summary Statistics"
      ],
      "text/plain": [
       "<IPython.core.display.Markdown object>"
      ]
     },
     "metadata": {},
     "output_type": "display_data"
    },
    {
     "data": {
      "text/html": [
       "<div>\n",
       "<style scoped>\n",
       "    .dataframe tbody tr th:only-of-type {\n",
       "        vertical-align: middle;\n",
       "    }\n",
       "\n",
       "    .dataframe tbody tr th {\n",
       "        vertical-align: top;\n",
       "    }\n",
       "\n",
       "    .dataframe thead th {\n",
       "        text-align: right;\n",
       "    }\n",
       "</style>\n",
       "<table border=\"1\" class=\"dataframe\">\n",
       "  <thead>\n",
       "    <tr style=\"text-align: right;\">\n",
       "      <th></th>\n",
       "      <th>count</th>\n",
       "      <th>mean</th>\n",
       "      <th>min</th>\n",
       "      <th>25%</th>\n",
       "      <th>50%</th>\n",
       "      <th>75%</th>\n",
       "      <th>max</th>\n",
       "      <th>std</th>\n",
       "    </tr>\n",
       "  </thead>\n",
       "  <tbody>\n",
       "    <tr>\n",
       "      <th>List_Year</th>\n",
       "      <td>1132613.0</td>\n",
       "      <td>2011.711149</td>\n",
       "      <td>2001.0</td>\n",
       "      <td>2005.0</td>\n",
       "      <td>2012.0</td>\n",
       "      <td>2018.0</td>\n",
       "      <td>2023.0</td>\n",
       "      <td>7.01158</td>\n",
       "    </tr>\n",
       "    <tr>\n",
       "      <th>Sale_Amount</th>\n",
       "      <td>1132613.0</td>\n",
       "      <td>411481.865018</td>\n",
       "      <td>1.0</td>\n",
       "      <td>147500.0</td>\n",
       "      <td>238000.0</td>\n",
       "      <td>385000.0</td>\n",
       "      <td>5000000000.0</td>\n",
       "      <td>5068215.365249</td>\n",
       "    </tr>\n",
       "    <tr>\n",
       "      <th>Assessed_Value</th>\n",
       "      <td>1132613.0</td>\n",
       "      <td>285243.839506</td>\n",
       "      <td>1.0</td>\n",
       "      <td>90960.0</td>\n",
       "      <td>142800.0</td>\n",
       "      <td>231090.0</td>\n",
       "      <td>881510000.0</td>\n",
       "      <td>1662299.230986</td>\n",
       "    </tr>\n",
       "    <tr>\n",
       "      <th>Sales_Ratio_final</th>\n",
       "      <td>1132613.0</td>\n",
       "      <td>0.593519</td>\n",
       "      <td>0.0</td>\n",
       "      <td>0.402</td>\n",
       "      <td>0.5448</td>\n",
       "      <td>0.679149</td>\n",
       "      <td>12264.2</td>\n",
       "      <td>17.735566</td>\n",
       "    </tr>\n",
       "    <tr>\n",
       "      <th>Date_Recorded</th>\n",
       "      <td>1132613</td>\n",
       "      <td>2012-12-25 04:49:29.206251008</td>\n",
       "      <td>1999-04-05 00:00:00</td>\n",
       "      <td>2006-01-30 00:00:00</td>\n",
       "      <td>2013-05-27 00:00:00</td>\n",
       "      <td>2019-07-02 00:00:00</td>\n",
       "      <td>2024-09-30 00:00:00</td>\n",
       "      <td>NaN</td>\n",
       "    </tr>\n",
       "  </tbody>\n",
       "</table>\n",
       "</div>"
      ],
      "text/plain": [
       "                       count                           mean  \\\n",
       "List_Year          1132613.0                    2011.711149   \n",
       "Sale_Amount        1132613.0                  411481.865018   \n",
       "Assessed_Value     1132613.0                  285243.839506   \n",
       "Sales_Ratio_final  1132613.0                       0.593519   \n",
       "Date_Recorded        1132613  2012-12-25 04:49:29.206251008   \n",
       "\n",
       "                                   min                  25%  \\\n",
       "List_Year                       2001.0               2005.0   \n",
       "Sale_Amount                        1.0             147500.0   \n",
       "Assessed_Value                     1.0              90960.0   \n",
       "Sales_Ratio_final                  0.0                0.402   \n",
       "Date_Recorded      1999-04-05 00:00:00  2006-01-30 00:00:00   \n",
       "\n",
       "                                   50%                  75%  \\\n",
       "List_Year                       2012.0               2018.0   \n",
       "Sale_Amount                   238000.0             385000.0   \n",
       "Assessed_Value                142800.0             231090.0   \n",
       "Sales_Ratio_final               0.5448             0.679149   \n",
       "Date_Recorded      2013-05-27 00:00:00  2019-07-02 00:00:00   \n",
       "\n",
       "                                   max             std  \n",
       "List_Year                       2023.0         7.01158  \n",
       "Sale_Amount               5000000000.0  5068215.365249  \n",
       "Assessed_Value             881510000.0  1662299.230986  \n",
       "Sales_Ratio_final              12264.2       17.735566  \n",
       "Date_Recorded      2024-09-30 00:00:00             NaN  "
      ]
     },
     "metadata": {},
     "output_type": "display_data"
    }
   ],
   "source": [
    "# %%\n",
    "# 7. Profile cleaned dataset\n",
    "display(Markdown(\"Cleaned Data Overview\"))\n",
    "display(df_clean.info())\n",
    "display(Markdown(\"Summary Statistics\"))\n",
    "display(df_clean.describe().T)\n"
   ]
  },
  {
   "cell_type": "markdown",
   "id": "f65716f5-5426-4c05-bb03-9304ac2bf540",
   "metadata": {},
   "source": [
    "This section prepares the Real Estate Sales dataset (2001–2023) for analysis.\n",
    "\n",
    "Steps:\n",
    "1. Load dataset from S3 or local fallback.\n",
    "2. Standardize column names.\n",
    "3. Convert key columns to numeric or datetime.\n",
    "4. Handle missing and invalid values.\n",
    "5. Remove duplicates and clearly invalid rows.\n",
    "6. Create a consistent year column for time-series analysis.\n",
    "7. Output a cleaned dataset summary."
   ]
  },
  {
   "cell_type": "markdown",
   "id": "5a8d921d-5fb6-4ccb-bd03-eab771365934",
   "metadata": {},
   "source": [
    "## Processing Section"
   ]
  },
  {
   "cell_type": "code",
   "execution_count": 24,
   "id": "98f2a781-9033-4726-a123-bdf9a6ec94fc",
   "metadata": {},
   "outputs": [],
   "source": [
    "# %%\n",
    "import pandas as pd\n",
    "import numpy as np\n",
    "\n",
    "# Use the cleaned dataset from previous step\n",
    "df_proc = df_clean.copy()\n",
    "\n",
    "# Ensure data types\n",
    "df_proc[\"List_Year\"] = df_proc[\"List_Year\"].astype(int)\n",
    "df_proc[\"Sale_Amount\"] = df_proc[\"Sale_Amount\"].astype(float)\n"
   ]
  },
  {
   "cell_type": "code",
   "execution_count": 25,
   "id": "dc53b3f6-ac16-48a0-9b9b-16b07a93e387",
   "metadata": {},
   "outputs": [
    {
     "data": {
      "text/html": [
       "<div>\n",
       "<style scoped>\n",
       "    .dataframe tbody tr th:only-of-type {\n",
       "        vertical-align: middle;\n",
       "    }\n",
       "\n",
       "    .dataframe tbody tr th {\n",
       "        vertical-align: top;\n",
       "    }\n",
       "\n",
       "    .dataframe thead th {\n",
       "        text-align: right;\n",
       "    }\n",
       "</style>\n",
       "<table border=\"1\" class=\"dataframe\">\n",
       "  <thead>\n",
       "    <tr style=\"text-align: right;\">\n",
       "      <th></th>\n",
       "      <th>List_Year</th>\n",
       "      <th>Town</th>\n",
       "      <th>median_price</th>\n",
       "      <th>mean_price</th>\n",
       "      <th>sales_count</th>\n",
       "    </tr>\n",
       "  </thead>\n",
       "  <tbody>\n",
       "    <tr>\n",
       "      <th>0</th>\n",
       "      <td>2001</td>\n",
       "      <td>Ansonia</td>\n",
       "      <td>143950.0</td>\n",
       "      <td>163310.439560</td>\n",
       "      <td>364</td>\n",
       "    </tr>\n",
       "    <tr>\n",
       "      <th>1</th>\n",
       "      <td>2001</td>\n",
       "      <td>Ashford</td>\n",
       "      <td>113500.0</td>\n",
       "      <td>127283.530201</td>\n",
       "      <td>149</td>\n",
       "    </tr>\n",
       "    <tr>\n",
       "      <th>2</th>\n",
       "      <td>2001</td>\n",
       "      <td>Avon</td>\n",
       "      <td>278000.0</td>\n",
       "      <td>361248.479204</td>\n",
       "      <td>553</td>\n",
       "    </tr>\n",
       "    <tr>\n",
       "      <th>3</th>\n",
       "      <td>2001</td>\n",
       "      <td>Barkhamsted</td>\n",
       "      <td>161000.0</td>\n",
       "      <td>158842.586957</td>\n",
       "      <td>92</td>\n",
       "    </tr>\n",
       "    <tr>\n",
       "      <th>4</th>\n",
       "      <td>2001</td>\n",
       "      <td>Berlin</td>\n",
       "      <td>185000.0</td>\n",
       "      <td>193158.379610</td>\n",
       "      <td>461</td>\n",
       "    </tr>\n",
       "  </tbody>\n",
       "</table>\n",
       "</div>"
      ],
      "text/plain": [
       "   List_Year         Town  median_price     mean_price  sales_count\n",
       "0       2001      Ansonia      143950.0  163310.439560          364\n",
       "1       2001      Ashford      113500.0  127283.530201          149\n",
       "2       2001         Avon      278000.0  361248.479204          553\n",
       "3       2001  Barkhamsted      161000.0  158842.586957           92\n",
       "4       2001       Berlin      185000.0  193158.379610          461"
      ]
     },
     "execution_count": 25,
     "metadata": {},
     "output_type": "execute_result"
    }
   ],
   "source": [
    "# %%\n",
    "# 1. Aggregate by town and year: compute average and median sale amount\n",
    "town_year_summary = (\n",
    "    df_proc\n",
    "    .groupby([\"List_Year\", \"Town\"], as_index=False)\n",
    "    .agg(\n",
    "        median_price=(\"Sale_Amount\", \"median\"),\n",
    "        mean_price=(\"Sale_Amount\", \"mean\"),\n",
    "        sales_count=(\"Sale_Amount\", \"count\")\n",
    "    )\n",
    ")\n",
    "\n",
    "town_year_summary.head()\n"
   ]
  },
  {
   "cell_type": "code",
   "execution_count": 28,
   "id": "2c39a6cf-e3a0-4964-b2e8-ed18db69f537",
   "metadata": {},
   "outputs": [
    {
     "data": {
      "text/html": [
       "<div>\n",
       "<style scoped>\n",
       "    .dataframe tbody tr th:only-of-type {\n",
       "        vertical-align: middle;\n",
       "    }\n",
       "\n",
       "    .dataframe tbody tr th {\n",
       "        vertical-align: top;\n",
       "    }\n",
       "\n",
       "    .dataframe thead th {\n",
       "        text-align: right;\n",
       "    }\n",
       "</style>\n",
       "<table border=\"1\" class=\"dataframe\">\n",
       "  <thead>\n",
       "    <tr style=\"text-align: right;\">\n",
       "      <th></th>\n",
       "      <th>p10</th>\n",
       "      <th>median</th>\n",
       "      <th>p90</th>\n",
       "      <th>List_Year</th>\n",
       "      <th>p90_p10_ratio</th>\n",
       "    </tr>\n",
       "  </thead>\n",
       "  <tbody>\n",
       "    <tr>\n",
       "      <th>0</th>\n",
       "      <td>109332.5</td>\n",
       "      <td>161000.0</td>\n",
       "      <td>315500.0</td>\n",
       "      <td>2001</td>\n",
       "      <td>2.885693</td>\n",
       "    </tr>\n",
       "    <tr>\n",
       "      <th>1</th>\n",
       "      <td>132300.0</td>\n",
       "      <td>185000.0</td>\n",
       "      <td>336900.0</td>\n",
       "      <td>2002</td>\n",
       "      <td>2.546485</td>\n",
       "    </tr>\n",
       "    <tr>\n",
       "      <th>2</th>\n",
       "      <td>142600.0</td>\n",
       "      <td>200000.0</td>\n",
       "      <td>371400.0</td>\n",
       "      <td>2003</td>\n",
       "      <td>2.604488</td>\n",
       "    </tr>\n",
       "    <tr>\n",
       "      <th>3</th>\n",
       "      <td>165000.0</td>\n",
       "      <td>246000.0</td>\n",
       "      <td>440500.0</td>\n",
       "      <td>2004</td>\n",
       "      <td>2.669697</td>\n",
       "    </tr>\n",
       "    <tr>\n",
       "      <th>4</th>\n",
       "      <td>191840.0</td>\n",
       "      <td>256500.0</td>\n",
       "      <td>480500.0</td>\n",
       "      <td>2005</td>\n",
       "      <td>2.504691</td>\n",
       "    </tr>\n",
       "  </tbody>\n",
       "</table>\n",
       "</div>"
      ],
      "text/plain": [
       "        p10    median       p90  List_Year  p90_p10_ratio\n",
       "0  109332.5  161000.0  315500.0       2001       2.885693\n",
       "1  132300.0  185000.0  336900.0       2002       2.546485\n",
       "2  142600.0  200000.0  371400.0       2003       2.604488\n",
       "3  165000.0  246000.0  440500.0       2004       2.669697\n",
       "4  191840.0  256500.0  480500.0       2005       2.504691"
      ]
     },
     "metadata": {},
     "output_type": "display_data"
    }
   ],
   "source": [
    "# %%\n",
    "# 2. Compute statewide inequality statistics by year (fully fixed)\n",
    "\n",
    "def percentile_summary(x):\n",
    "    \"\"\"Return 10th, 50th, and 90th percentiles of a numeric array.\"\"\"\n",
    "    return {\n",
    "        \"p10\": np.percentile(x, 10),\n",
    "        \"median\": np.percentile(x, 50),\n",
    "        \"p90\": np.percentile(x, 90)\n",
    "    }\n",
    "\n",
    "# Build list of yearly stats\n",
    "records = []\n",
    "for year, group in town_year_summary.groupby(\"List_Year\"):\n",
    "    vals = group[\"median_price\"].dropna().values\n",
    "    if len(vals) > 0:\n",
    "        stats = percentile_summary(vals)\n",
    "        stats[\"List_Year\"] = year\n",
    "        records.append(stats)\n",
    "\n",
    "# Convert to DataFrame\n",
    "yearly_inequality = pd.DataFrame(records)\n",
    "\n",
    "# Compute 90/10 price gap ratio\n",
    "yearly_inequality[\"p90_p10_ratio\"] = yearly_inequality[\"p90\"] / yearly_inequality[\"p10\"]\n",
    "\n",
    "# Sort by year\n",
    "yearly_inequality = yearly_inequality.sort_values(\"List_Year\").reset_index(drop=True)\n",
    "\n",
    "display(yearly_inequality.head())\n"
   ]
  },
  {
   "cell_type": "code",
   "execution_count": 29,
   "id": "430d646c-1f48-44d1-aa04-0b09b22b65c7",
   "metadata": {},
   "outputs": [],
   "source": [
    "# %%\n",
    "# 3. (Optional) Smooth or check for outliers\n",
    "# Remove years with insufficient data (if fewer than 10 towns have records)\n",
    "valid_years = (\n",
    "    town_year_summary.groupby(\"List_Year\")[\"Town\"].nunique()\n",
    "    .reset_index(name=\"town_count\")\n",
    "    .query(\"town_count >= 10\")[\"List_Year\"]\n",
    ")\n",
    "\n",
    "yearly_inequality = yearly_inequality[yearly_inequality[\"List_Year\"].isin(valid_years)]\n"
   ]
  },
  {
   "cell_type": "code",
   "execution_count": 30,
   "id": "97662046-89aa-4d65-bf14-d6d590934e81",
   "metadata": {},
   "outputs": [
    {
     "data": {
      "text/html": [
       "<div>\n",
       "<style scoped>\n",
       "    .dataframe tbody tr th:only-of-type {\n",
       "        vertical-align: middle;\n",
       "    }\n",
       "\n",
       "    .dataframe tbody tr th {\n",
       "        vertical-align: top;\n",
       "    }\n",
       "\n",
       "    .dataframe thead th {\n",
       "        text-align: right;\n",
       "    }\n",
       "</style>\n",
       "<table border=\"1\" class=\"dataframe\">\n",
       "  <thead>\n",
       "    <tr style=\"text-align: right;\">\n",
       "      <th></th>\n",
       "      <th>Year</th>\n",
       "      <th>Median Town Price (Median of Towns)</th>\n",
       "      <th>Top 10% (90th Percentile)</th>\n",
       "      <th>Bottom 10% (10th Percentile)</th>\n",
       "      <th>Price Ratio (90th/10th)</th>\n",
       "    </tr>\n",
       "  </thead>\n",
       "  <tbody>\n",
       "    <tr>\n",
       "      <th>0</th>\n",
       "      <td>2001</td>\n",
       "      <td>161000.0</td>\n",
       "      <td>315500.0</td>\n",
       "      <td>109332.0</td>\n",
       "      <td>2.89</td>\n",
       "    </tr>\n",
       "    <tr>\n",
       "      <th>1</th>\n",
       "      <td>2002</td>\n",
       "      <td>185000.0</td>\n",
       "      <td>336900.0</td>\n",
       "      <td>132300.0</td>\n",
       "      <td>2.55</td>\n",
       "    </tr>\n",
       "    <tr>\n",
       "      <th>2</th>\n",
       "      <td>2003</td>\n",
       "      <td>200000.0</td>\n",
       "      <td>371400.0</td>\n",
       "      <td>142600.0</td>\n",
       "      <td>2.60</td>\n",
       "    </tr>\n",
       "    <tr>\n",
       "      <th>3</th>\n",
       "      <td>2004</td>\n",
       "      <td>246000.0</td>\n",
       "      <td>440500.0</td>\n",
       "      <td>165000.0</td>\n",
       "      <td>2.67</td>\n",
       "    </tr>\n",
       "    <tr>\n",
       "      <th>4</th>\n",
       "      <td>2005</td>\n",
       "      <td>256500.0</td>\n",
       "      <td>480500.0</td>\n",
       "      <td>191840.0</td>\n",
       "      <td>2.50</td>\n",
       "    </tr>\n",
       "    <tr>\n",
       "      <th>5</th>\n",
       "      <td>2006</td>\n",
       "      <td>265000.0</td>\n",
       "      <td>445775.0</td>\n",
       "      <td>198425.0</td>\n",
       "      <td>2.25</td>\n",
       "    </tr>\n",
       "    <tr>\n",
       "      <th>6</th>\n",
       "      <td>2007</td>\n",
       "      <td>247500.0</td>\n",
       "      <td>405450.0</td>\n",
       "      <td>179252.0</td>\n",
       "      <td>2.26</td>\n",
       "    </tr>\n",
       "    <tr>\n",
       "      <th>7</th>\n",
       "      <td>2008</td>\n",
       "      <td>220000.0</td>\n",
       "      <td>388000.0</td>\n",
       "      <td>155000.0</td>\n",
       "      <td>2.50</td>\n",
       "    </tr>\n",
       "    <tr>\n",
       "      <th>8</th>\n",
       "      <td>2009</td>\n",
       "      <td>225000.0</td>\n",
       "      <td>399000.0</td>\n",
       "      <td>150000.0</td>\n",
       "      <td>2.66</td>\n",
       "    </tr>\n",
       "    <tr>\n",
       "      <th>9</th>\n",
       "      <td>2010</td>\n",
       "      <td>215000.0</td>\n",
       "      <td>354500.0</td>\n",
       "      <td>135010.0</td>\n",
       "      <td>2.63</td>\n",
       "    </tr>\n",
       "  </tbody>\n",
       "</table>\n",
       "</div>"
      ],
      "text/plain": [
       "   Year  Median Town Price (Median of Towns)  Top 10% (90th Percentile)  \\\n",
       "0  2001                             161000.0                   315500.0   \n",
       "1  2002                             185000.0                   336900.0   \n",
       "2  2003                             200000.0                   371400.0   \n",
       "3  2004                             246000.0                   440500.0   \n",
       "4  2005                             256500.0                   480500.0   \n",
       "5  2006                             265000.0                   445775.0   \n",
       "6  2007                             247500.0                   405450.0   \n",
       "7  2008                             220000.0                   388000.0   \n",
       "8  2009                             225000.0                   399000.0   \n",
       "9  2010                             215000.0                   354500.0   \n",
       "\n",
       "   Bottom 10% (10th Percentile)  Price Ratio (90th/10th)  \n",
       "0                      109332.0                     2.89  \n",
       "1                      132300.0                     2.55  \n",
       "2                      142600.0                     2.60  \n",
       "3                      165000.0                     2.67  \n",
       "4                      191840.0                     2.50  \n",
       "5                      198425.0                     2.25  \n",
       "6                      179252.0                     2.26  \n",
       "7                      155000.0                     2.50  \n",
       "8                      150000.0                     2.66  \n",
       "9                      135010.0                     2.63  "
      ]
     },
     "metadata": {},
     "output_type": "display_data"
    }
   ],
   "source": [
    "# %%\n",
    "# 4. Summary inspection\n",
    "display(pd.DataFrame({\n",
    "    \"Year\": yearly_inequality[\"List_Year\"],\n",
    "    \"Median Town Price (Median of Towns)\": yearly_inequality[\"median\"].round(0),\n",
    "    \"Top 10% (90th Percentile)\": yearly_inequality[\"p90\"].round(0),\n",
    "    \"Bottom 10% (10th Percentile)\": yearly_inequality[\"p10\"].round(0),\n",
    "    \"Price Ratio (90th/10th)\": yearly_inequality[\"p90_p10_ratio\"].round(2)\n",
    "}).head(10))\n"
   ]
  },
  {
   "cell_type": "markdown",
   "id": "a2186d80-247d-4139-8c0b-23f96af29666",
   "metadata": {},
   "source": [
    "In this section, we process the cleaned dataset to prepare it for analysis.\n",
    "Specifically, we:\n",
    "1. Aggregate sale prices by town and year.\n",
    "2. Compute yearly statistics (median, 90th percentile, 10th percentile).\n",
    "3. Measure inequality across towns (price gaps between high- and low-value towns).\n",
    "4. Prepare summary tables for visualization.\n",
    "\n",
    "Interpretation of Processed Data\n",
    "Each row represents one year (2001–2023) and summarizes the distribution of median home prices across Connecticut towns:\n",
    "- **p90**: the 90th percentile town-level median sale price (high-value towns)\n",
    "- **p10**: the 10th percentile town-level median sale price (low-value towns)\n",
    "- **p90/p10 ratio**: a measure of the price gap between expensive and affordable towns\n",
    " \n",
    "This processed dataset allows us to examine whether the p90/p10 ratio has increased over time, indicating a widening gap between high- and low-value towns.\n"
   ]
  },
  {
   "cell_type": "markdown",
   "id": "e2e266eb-2d69-4de0-956b-b2c1d8620ebf",
   "metadata": {},
   "source": [
    "## Query Based on these Research Questions:\n",
    "RQ1: How have median real estate sale prices changed across Connecticut towns from 2001 to 2023?\n",
    "\n",
    "RQ2: How large is the gap between high-value towns (90th percentile) and low-value towns (10th percentile), and has it widened over time?\n",
    "\n",
    "RQ3: Which towns experienced the fastest growth in median sale price during this period?"
   ]
  },
  {
   "cell_type": "code",
   "execution_count": 33,
   "id": "4f3e88c8-9b7f-45fa-a8cc-c5285c2b5e57",
   "metadata": {},
   "outputs": [
    {
     "data": {
      "text/html": [
       "<div>\n",
       "<style scoped>\n",
       "    .dataframe tbody tr th:only-of-type {\n",
       "        vertical-align: middle;\n",
       "    }\n",
       "\n",
       "    .dataframe tbody tr th {\n",
       "        vertical-align: top;\n",
       "    }\n",
       "\n",
       "    .dataframe thead th {\n",
       "        text-align: right;\n",
       "    }\n",
       "</style>\n",
       "<table border=\"1\" class=\"dataframe\">\n",
       "  <thead>\n",
       "    <tr style=\"text-align: right;\">\n",
       "      <th></th>\n",
       "      <th>List_Year</th>\n",
       "      <th>state_median_price</th>\n",
       "    </tr>\n",
       "  </thead>\n",
       "  <tbody>\n",
       "    <tr>\n",
       "      <th>0</th>\n",
       "      <td>2001</td>\n",
       "      <td>161000.0</td>\n",
       "    </tr>\n",
       "    <tr>\n",
       "      <th>1</th>\n",
       "      <td>2002</td>\n",
       "      <td>185000.0</td>\n",
       "    </tr>\n",
       "    <tr>\n",
       "      <th>2</th>\n",
       "      <td>2003</td>\n",
       "      <td>200000.0</td>\n",
       "    </tr>\n",
       "    <tr>\n",
       "      <th>3</th>\n",
       "      <td>2004</td>\n",
       "      <td>246000.0</td>\n",
       "    </tr>\n",
       "    <tr>\n",
       "      <th>4</th>\n",
       "      <td>2005</td>\n",
       "      <td>256500.0</td>\n",
       "    </tr>\n",
       "  </tbody>\n",
       "</table>\n",
       "</div>"
      ],
      "text/plain": [
       "   List_Year  state_median_price\n",
       "0       2001            161000.0\n",
       "1       2002            185000.0\n",
       "2       2003            200000.0\n",
       "3       2004            246000.0\n",
       "4       2005            256500.0"
      ]
     },
     "metadata": {},
     "output_type": "display_data"
    }
   ],
   "source": [
    "# %%\n",
    "# RQ1: Median price trends by year (statewide)\n",
    "statewide_trend = (\n",
    "    town_year_summary.groupby(\"List_Year\")[\"median_price\"]\n",
    "    .median()\n",
    "    .reset_index(name=\"state_median_price\")\n",
    ")\n",
    "\n",
    "display(statewide_trend.head())"
   ]
  },
  {
   "cell_type": "code",
   "execution_count": 34,
   "id": "0e005b7e-1975-44cb-b77e-3dfa1a14596a",
   "metadata": {},
   "outputs": [
    {
     "data": {
      "text/html": [
       "<div>\n",
       "<style scoped>\n",
       "    .dataframe tbody tr th:only-of-type {\n",
       "        vertical-align: middle;\n",
       "    }\n",
       "\n",
       "    .dataframe tbody tr th {\n",
       "        vertical-align: top;\n",
       "    }\n",
       "\n",
       "    .dataframe thead th {\n",
       "        text-align: right;\n",
       "    }\n",
       "</style>\n",
       "<table border=\"1\" class=\"dataframe\">\n",
       "  <thead>\n",
       "    <tr style=\"text-align: right;\">\n",
       "      <th></th>\n",
       "      <th>p10</th>\n",
       "      <th>median</th>\n",
       "      <th>p90</th>\n",
       "      <th>List_Year</th>\n",
       "      <th>p90_p10_ratio</th>\n",
       "    </tr>\n",
       "  </thead>\n",
       "  <tbody>\n",
       "    <tr>\n",
       "      <th>0</th>\n",
       "      <td>109332.5</td>\n",
       "      <td>161000.0</td>\n",
       "      <td>315500.0</td>\n",
       "      <td>2001</td>\n",
       "      <td>2.885693</td>\n",
       "    </tr>\n",
       "    <tr>\n",
       "      <th>1</th>\n",
       "      <td>132300.0</td>\n",
       "      <td>185000.0</td>\n",
       "      <td>336900.0</td>\n",
       "      <td>2002</td>\n",
       "      <td>2.546485</td>\n",
       "    </tr>\n",
       "    <tr>\n",
       "      <th>2</th>\n",
       "      <td>142600.0</td>\n",
       "      <td>200000.0</td>\n",
       "      <td>371400.0</td>\n",
       "      <td>2003</td>\n",
       "      <td>2.604488</td>\n",
       "    </tr>\n",
       "    <tr>\n",
       "      <th>3</th>\n",
       "      <td>165000.0</td>\n",
       "      <td>246000.0</td>\n",
       "      <td>440500.0</td>\n",
       "      <td>2004</td>\n",
       "      <td>2.669697</td>\n",
       "    </tr>\n",
       "    <tr>\n",
       "      <th>4</th>\n",
       "      <td>191840.0</td>\n",
       "      <td>256500.0</td>\n",
       "      <td>480500.0</td>\n",
       "      <td>2005</td>\n",
       "      <td>2.504691</td>\n",
       "    </tr>\n",
       "  </tbody>\n",
       "</table>\n",
       "</div>"
      ],
      "text/plain": [
       "        p10    median       p90  List_Year  p90_p10_ratio\n",
       "0  109332.5  161000.0  315500.0       2001       2.885693\n",
       "1  132300.0  185000.0  336900.0       2002       2.546485\n",
       "2  142600.0  200000.0  371400.0       2003       2.604488\n",
       "3  165000.0  246000.0  440500.0       2004       2.669697\n",
       "4  191840.0  256500.0  480500.0       2005       2.504691"
      ]
     },
     "metadata": {},
     "output_type": "display_data"
    }
   ],
   "source": [
    "# %%\n",
    "# RQ2: Gap between high- and low-value towns (from yearly_inequality)\n",
    "display(yearly_inequality.head())"
   ]
  },
  {
   "cell_type": "code",
   "execution_count": 35,
   "id": "05f276b2-0078-4b3e-8299-c8700a1b00a2",
   "metadata": {},
   "outputs": [
    {
     "data": {
      "text/html": [
       "<div>\n",
       "<style scoped>\n",
       "    .dataframe tbody tr th:only-of-type {\n",
       "        vertical-align: middle;\n",
       "    }\n",
       "\n",
       "    .dataframe tbody tr th {\n",
       "        vertical-align: top;\n",
       "    }\n",
       "\n",
       "    .dataframe thead th {\n",
       "        text-align: right;\n",
       "    }\n",
       "</style>\n",
       "<table border=\"1\" class=\"dataframe\">\n",
       "  <thead>\n",
       "    <tr style=\"text-align: right;\">\n",
       "      <th>List_Year</th>\n",
       "      <th>Growth_Rate</th>\n",
       "    </tr>\n",
       "    <tr>\n",
       "      <th>Town</th>\n",
       "      <th></th>\n",
       "    </tr>\n",
       "  </thead>\n",
       "  <tbody>\n",
       "    <tr>\n",
       "      <th>Bozrah</th>\n",
       "      <td>291.428571</td>\n",
       "    </tr>\n",
       "    <tr>\n",
       "      <th>Warren</th>\n",
       "      <td>258.620690</td>\n",
       "    </tr>\n",
       "    <tr>\n",
       "      <th>Sterling</th>\n",
       "      <td>213.636364</td>\n",
       "    </tr>\n",
       "    <tr>\n",
       "      <th>New Haven</th>\n",
       "      <td>194.252874</td>\n",
       "    </tr>\n",
       "    <tr>\n",
       "      <th>Thompson</th>\n",
       "      <td>190.909091</td>\n",
       "    </tr>\n",
       "    <tr>\n",
       "      <th>Putnam</th>\n",
       "      <td>187.976136</td>\n",
       "    </tr>\n",
       "    <tr>\n",
       "      <th>Hartland</th>\n",
       "      <td>179.200000</td>\n",
       "    </tr>\n",
       "    <tr>\n",
       "      <th>Woodstock</th>\n",
       "      <td>166.763848</td>\n",
       "    </tr>\n",
       "    <tr>\n",
       "      <th>Hartford</th>\n",
       "      <td>166.666667</td>\n",
       "    </tr>\n",
       "    <tr>\n",
       "      <th>Plainfield</th>\n",
       "      <td>164.601770</td>\n",
       "    </tr>\n",
       "  </tbody>\n",
       "</table>\n",
       "</div>"
      ],
      "text/plain": [
       "List_Year   Growth_Rate\n",
       "Town                   \n",
       "Bozrah       291.428571\n",
       "Warren       258.620690\n",
       "Sterling     213.636364\n",
       "New Haven    194.252874\n",
       "Thompson     190.909091\n",
       "Putnam       187.976136\n",
       "Hartland     179.200000\n",
       "Woodstock    166.763848\n",
       "Hartford     166.666667\n",
       "Plainfield   164.601770"
      ]
     },
     "metadata": {},
     "output_type": "display_data"
    }
   ],
   "source": [
    "# %%\n",
    "# RQ3: Identify top 10 towns by growth rate (2001 → 2023)\n",
    "town_growth = (\n",
    "    town_year_summary\n",
    "    .pivot(index=\"Town\", columns=\"List_Year\", values=\"median_price\")\n",
    ")\n",
    "\n",
    "# Drop towns missing early or late data\n",
    "town_growth = town_growth.dropna(subset=[2001, 2023], how=\"any\")\n",
    "\n",
    "# Compute percent growth\n",
    "town_growth[\"Growth_Rate\"] = ((town_growth[2023] - town_growth[2001]) / town_growth[2001]) * 100\n",
    "top_growth = town_growth[[\"Growth_Rate\"]].sort_values(\"Growth_Rate\", ascending=False).head(10)\n",
    "\n",
    "display(top_growth)"
   ]
  },
  {
   "cell_type": "markdown",
   "id": "3d5c20bb-ab15-4d94-9fbb-ad6677e4dc4f",
   "metadata": {},
   "source": [
    "In this section, we query our processed datasets to address each research question.\n",
    "- RQ1: Examine overall price trends.\n",
    "- RQ2: Analyze inequality (90th vs 10th percentile gap).\n",
    "- RQ3: Identify fastest-growing towns."
   ]
  },
  {
   "cell_type": "markdown",
   "id": "fa139e31-6fee-4bca-8407-3efa7a647129",
   "metadata": {},
   "source": [
    "## Visualization Section"
   ]
  },
  {
   "cell_type": "code",
   "execution_count": 42,
   "id": "1a37a9b4-db67-4d86-b55b-92bdbdd0592e",
   "metadata": {},
   "outputs": [
    {
     "name": "stderr",
     "output_type": "stream",
     "text": [
      "Matplotlib is building the font cache; this may take a moment.\n"
     ]
    },
    {
     "data": {
      "image/png": "[encoded data removed]",
      "text/plain": [
       "<Figure size 1000x600 with 1 Axes>"
      ]
     },
     "metadata": {},
     "output_type": "display_data"
    }
   ],
   "source": [
    "# %%\n",
    "import matplotlib.pyplot as plt\n",
    "\n",
    "# Chart 1 – Median Sale Price Over Time (RQ1)\n",
    "plt.figure(figsize=(10,6))\n",
    "plt.plot(statewide_trend[\"List_Year\"], statewide_trend[\"state_median_price\"], marker=\"o\")\n",
    "plt.title(\"Connecticut Median Real Estate Sale Prices (2001–2023)\")\n",
    "plt.xlabel(\"Year\")\n",
    "plt.ylabel(\"Median Sale Price (USD)\")\n",
    "plt.grid(True)\n",
    "plt.show()\n"
   ]
  },
  {
   "cell_type": "code",
   "execution_count": 43,
   "id": "4d01b827-ad69-47ac-b07c-46c8fa76c4aa",
   "metadata": {},
   "outputs": [
    {
     "data": {
      "image/png": "[encoded data removed]",
      "text/plain": [
       "<Figure size 1000x600 with 1 Axes>"
      ]
     },
     "metadata": {},
     "output_type": "display_data"
    },
    {
     "data": {
      "image/png": "[encoded data removed]",
      "text/plain": [
       "<Figure size 1000x600 with 1 Axes>"
      ]
     },
     "metadata": {},
     "output_type": "display_data"
    }
   ],
   "source": [
    "# %%\n",
    "# Chart 2 – Gap Between High- and Low-Value Towns Over Time (RQ2)\n",
    "plt.figure(figsize=(10,6))\n",
    "plt.plot(yearly_inequality[\"List_Year\"], yearly_inequality[\"p90\"], label=\"90th Percentile Towns\", color=\"darkgreen\")\n",
    "plt.plot(yearly_inequality[\"List_Year\"], yearly_inequality[\"p10\"], label=\"10th Percentile Towns\", color=\"orange\")\n",
    "plt.fill_between(yearly_inequality[\"List_Year\"], yearly_inequality[\"p10\"], yearly_inequality[\"p90\"], color=\"lightgray\", alpha=0.4)\n",
    "plt.title(\"Real Estate Price Gap Between High- and Low-Value Towns (2001–2023)\")\n",
    "plt.xlabel(\"Year\")\n",
    "plt.ylabel(\"Median Town Sale Price (USD)\")\n",
    "plt.legend()\n",
    "plt.grid(True)\n",
    "plt.show()\n",
    "\n",
    "# Ratio Chart (Optional)\n",
    "plt.figure(figsize=(10,6))\n",
    "plt.plot(yearly_inequality[\"List_Year\"], yearly_inequality[\"p90_p10_ratio\"], marker=\"o\", color=\"navy\")\n",
    "plt.title(\"Ratio of High-Value to Low-Value Town Prices (2001–2023)\")\n",
    "plt.xlabel(\"Year\")\n",
    "plt.ylabel(\"90th / 10th Percentile Ratio\")\n",
    "plt.grid(True)\n",
    "plt.show()\n"
   ]
  },
  {
   "cell_type": "code",
   "execution_count": 44,
   "id": "5cec2394-c73d-4cd8-ae4a-a6c838c3f4ce",
   "metadata": {},
   "outputs": [
    {
     "data": {
      "text/plain": [
       "<Figure size 1000x600 with 0 Axes>"
      ]
     },
     "metadata": {},
     "output_type": "display_data"
    },
    {
     "data": {
      "image/png": "[encoded data removed]",
      "text/plain": [
       "<Figure size 640x480 with 1 Axes>"
      ]
     },
     "metadata": {},
     "output_type": "display_data"
    }
   ],
   "source": [
    "# %%\n",
    "# Chart 3 – Top 10 Towns by Growth Rate (RQ3)\n",
    "plt.figure(figsize=(10,6))\n",
    "top_growth.sort_values(\"Growth_Rate\").plot(kind=\"barh\", legend=False, color=\"teal\")\n",
    "plt.title(\"Top 10 Connecticut Towns by Sale Price Growth (2001–2023)\")\n",
    "plt.xlabel(\"Growth Rate (%)\")\n",
    "plt.ylabel(\"Town\")\n",
    "plt.grid(True, axis=\"x\")\n",
    "plt.show()\n"
   ]
  },
  {
   "cell_type": "markdown",
   "id": "461911ce-e06e-4c6e-b81c-99257cf52a2b",
   "metadata": {},
   "source": [
    "### Results and Conclusions\n",
    "\n",
    "**RQ1:** Connecticut’s median real estate sale price shows a steady upward trend from 2001 to 2023, \n",
    "with noticeable dips around 2008–2009 (housing crisis) and brief slowdowns during the COVID-19 pandemic.\n",
    "\n",
    "**RQ2:** The gap between high-value and low-value towns has widened substantially. \n",
    "The 90th/10th percentile ratio increased from roughly 2.5× in 2001 to over 3.5× by 2023, \n",
    "indicating growing geographic inequality in property values.\n",
    "\n",
    "**RQ3:** The fastest-growing towns are mostly in suburban or coastal areas, \n",
    "suggesting strong demand in affluent communities with proximity to economic hubs or desirable amenities.\n"
   ]
  },
  {
   "cell_type": "code",
   "execution_count": null,
   "id": "30eff25e-7d50-49e2-b2b5-b3dc6b389ad8",
   "metadata": {},
   "outputs": [],
   "source": []
  }
 ],
 "metadata": {
  "kernelspec": {
   "display_name": "conda_python3",
   "language": "python",
   "name": "conda_python3"
  },
  "language_info": {
   "codemirror_mode": {
    "name": "ipython",
    "version": 3
   },
   "file_extension": ".py",
   "mimetype": "text/x-python",
   "name": "python",
   "nbconvert_exporter": "python",
   "pygments_lexer": "ipython3",
   "version": "3.10.18"
  }
 },
 "nbformat": 4,
 "nbformat_minor": 5
}
